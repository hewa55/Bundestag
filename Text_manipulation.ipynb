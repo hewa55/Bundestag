{
 "cells": [
  {
   "cell_type": "code",
   "execution_count": 81,
   "metadata": {
    "collapsed": true,
    "pycharm": {
     "is_executing": false
    }
   },
   "outputs": [],
   "source": [
    "import nltk\n",
    "import pandas as pd\n",
    "import re\n",
    "import numpy as np\n",
    "from textblob_de import TextBlobDE as TextBlob\n",
    "\n",
    "from collections import Counter\n",
    "from pattern.text import de\n",
    "\n",
    "names = list()\n",
    "speech = list()\n",
    "\n",
    "with open(\"Bundestag-2018-02-21.txt\", \"r\") as file:\n",
    "    inSpeech = False\n",
    "    thisSpeech = \"\"\n",
    "    \n",
    "    for line in file:\n",
    "        line = line.strip()\n",
    "        # : is the last sign in all name lines\n",
    "        if (\":\" in line[len(line) - 1:]):\n",
    "            # people are either ministers (,) or MPs ( ( ) or Vice president or president\n",
    "            if (\",\" in line or \"(\" in line or \"Präsident\" in line or \"Vizepräsident\" in line):\n",
    "                # sometimes the floor is passed to another person, filter out those lines as well\n",
    "                if (not (\"!\" in line or re.match(\"Ich(\\s)\", line) or re.search(\"(\\s)ich(\\s)\", line))):\n",
    "                    speech.append(thisSpeech)\n",
    "                    thisSpeech = \"\"\n",
    "                    names.append(line)\n",
    "                    inSpeech = True\n",
    "                    continue\n",
    "                    \n",
    "        # end of the session \n",
    "        if (\"(Schluss:\" in line):\n",
    "            speech.append(thisSpeech)\n",
    "            break\n",
    "        # append the line to the previous speech line\n",
    "        # same person is speaking\n",
    "        if (inSpeech):\n",
    "            thisSpeech = thisSpeech + line\n",
    "\n",
    "# convert to dataframe\n",
    "speeches = pd.DataFrame({\"names\":names,\"speech\":speech[1:]})\n",
    "#print(speeches.head())"
   ]
  },
  {
   "cell_type": "code",
   "execution_count": 82,
   "outputs": [],
   "source": [
    "# Ideas:\n",
    "# - length of speeches compare to number of speeches\n",
    "# - sentiment in speech (very positive, very negative\n",
    "# - asks a lot of questions\n",
    "\n",
    "# take first idea and compare length of speech with number of speeches\n",
    "# create a data-structure which include: name, number of speeches, all speeches merged together\n",
    "\n",
    "MPs = set(speeches.names)\n",
    "\n",
    "summary = pd.DataFrame(index=list(MPs),columns=[\"text\",\"speech\",\"num\"])\n",
    "\n",
    "for member in MPs:\n",
    "    thisSpeech = speeches[speeches.names == member].speech\n",
    "    textSpeech = ' '.join(thisSpeech.tolist())\n",
    "    txt = TextBlob(textSpeech)\n",
    "    summary.loc[member] = pd.Series({\"text\":textSpeech,\"speech\":txt,\"num\":len(thisSpeech)})\n",
    "\n",
    "# summary now contains the text and the number of times the MP has spoken\n",
    "#print(summary.head())"
   ],
   "metadata": {
    "collapsed": false,
    "pycharm": {
     "name": "#%%\n",
     "is_executing": false
    }
   }
  },
  {
   "cell_type": "code",
   "execution_count": 83,
   "outputs": [],
   "source": [
    "# nest step: lexical Diversity\n",
    "def lexicalDiversity(txt):\n",
    "    return len(txt.words)/len(set(txt.words))\n",
    "\n",
    "def PartyExtractor(txt):\n",
    "    if(\"(\" in txt):\n",
    "        return txt[txt.index(\"(\")+1:txt.index(\")\")]\n",
    "    else:\n",
    "        return np.NaN\n",
    "\n",
    "summary[\"diversity\"]= summary[\"speech\"].apply(lexicalDiversity)\n",
    "\n",
    "summary[\"precision\"] = summary[\"text\"].apply(len)/summary[\"num\"]\n",
    "\n",
    "summary[\"party\"] = pd.Series(index=summary.index,data=summary.index).apply(PartyExtractor)\n"
   ],
   "metadata": {
    "collapsed": false,
    "pycharm": {
     "name": "#%%\n",
     "is_executing": false
    }
   }
  },
  {
   "cell_type": "code",
   "execution_count": 77,
   "outputs": [
    {
     "name": "stdout",
     "text": [
      "                       positive   neutral  negative\nSPD                    0.213675  0.521368  0.264957\nDIE LINKE              0.141304  0.521739  0.336957\nCDU/CSU                0.265403  0.563981  0.170616\nFDP                    0.166667  0.653846  0.179487\nAfD                     0.16568  0.609467  0.224852\nBÜNDNIS 90/DIE GRÜNEN  0.291667       0.6  0.108333\n"
     ],
     "output_type": "stream"
    }
   ],
   "source": [
    "parties = set(summary.party)\n",
    "parties = [x for x in parties if isinstance(x,str)]\n",
    "\n",
    "sentimentSummary = pd.DataFrame(index=parties,columns=[\"positive\",\"neutral\",\"negative\"])\n",
    "import math\n",
    "for x in parties:\n",
    "#    if(not isinstance(x,str)):\n",
    "#        continue\n",
    "    partySpeeches = summary[summary.party==x]\n",
    "    blob =TextBlob(' '.join(partySpeeches.text))\n",
    "    polarity = list()\n",
    "    subjectivity = list()\n",
    "    for y in blob.sentences:\n",
    "        thisSentiment = y.sentiment\n",
    "        polarity.append(thisSentiment[0])\n",
    "        subjectivity.append(thisSentiment[1])\n",
    "    sentimentSummary.loc[x] = {\"positive\":len(list(filter(lambda x:(x>0),polarity)))/len(polarity),\n",
    "                               \"negative\":len(list(filter(lambda x:(x<0),polarity)))/len(polarity),\n",
    "                               \"neutral\":len(list(filter(lambda x:(x==0),polarity)))/len(polarity)}\n",
    "print(sentimentSummary)"
   ],
   "metadata": {
    "collapsed": false,
    "pycharm": {
     "name": "#%%\n",
     "is_executing": false
    }
   }
  },
  {
   "cell_type": "code",
   "execution_count": 80,
   "outputs": [
    {
     "data": {
      "text/plain": "<Figure size 432x288 with 1 Axes>",
      "image/png": "[encoded data removed]"
     },
     "metadata": {},
     "output_type": "display_data"
    }
   ],
   "source": [
    "# display the data\n",
    "import seaborn as sns\n",
    "import matplotlib.pyplot as plt\n",
    "sns.set()\n",
    "sns.set_style(\"white\",{\"text.color\":\"0\"})\n",
    "ax=sentimentSummary.plot(kind=\"barh\",\n",
    "                         stacked=True,\n",
    "                         color=['green', 'grey', 'red'],\n",
    "                         alpha=0.5,\n",
    "                         legend=False)\n",
    "ax.tick_params(axis=\"x\",colors=\"white\")\n",
    "plt.figtext(0.5,0.9,\"Stimmungsbarometer im Bundestag am 21.2.2018\", fontsize=\"12\", ha=\"center\")\n",
    "plt.figtext(0.5,0.86,\"Positive, neutrale und negative Wortmeldungen\", fontsize=\"8\", ha=\"center\")\n",
    "sns.despine(top=True,left=True,right=True,bottom=True)\n",
    "ax.get_figure().savefig('bar.png',bbox_inches=\"tight\")"
   ],
   "metadata": {
    "collapsed": false,
    "pycharm": {
     "name": "#%%\n",
     "is_executing": false
    }
   }
  }
 ],
 "metadata": {
  "kernelspec": {
   "display_name": "Python 3",
   "language": "python",
   "name": "python3"
  },
  "language_info": {
   "codemirror_mode": {
    "name": "ipython",
    "version": 2
   },
   "file_extension": ".py",
   "mimetype": "text/x-python",
   "name": "python",
   "nbconvert_exporter": "python",
   "pygments_lexer": "ipython2",
   "version": "2.7.6"
  },
  "pycharm": {
   "stem_cell": {
    "cell_type": "raw",
    "source": [],
    "metadata": {
     "collapsed": false
    }
   }
  }
 },
 "nbformat": 4,
 "nbformat_minor": 0
}